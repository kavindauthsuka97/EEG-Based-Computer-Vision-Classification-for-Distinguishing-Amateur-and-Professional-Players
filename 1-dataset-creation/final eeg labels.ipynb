{
 "cells": [
  {
   "cell_type": "markdown",
   "id": "20f9de4c-5577-4d12-a6a6-c3f23f8be332",
   "metadata": {},
   "source": [
    "1. Load the arrays"
   ]
  },
  {
   "cell_type": "code",
   "execution_count": 1,
   "id": "2fa53164-dff2-4c80-97b9-d2d886a34c1d",
   "metadata": {},
   "outputs": [
    {
     "name": "stdout",
     "output_type": "stream",
     "text": [
      "\n",
      "----------------------------------------------------------------------------------------\n",
      "C:\\Self Learning\\Research Papers\\UOW Research Papers\\eSport Players with EEG Data\\EEG Data\\Amin\\amin_eeg_labels.npy\n",
      "Loaded: shape=(265,), dtype=int64\n",
      "First 5 lines (along axis 0):\n",
      "[0 0 0 0 0]\n",
      "\n",
      "----------------------------------------------------------------------------------------\n",
      "C:\\Self Learning\\Research Papers\\UOW Research Papers\\eSport Players with EEG Data\\EEG Data\\Amin1\\amin-1_eeg_labels.npy\n",
      "Loaded: shape=(265,), dtype=int64\n",
      "First 5 lines (along axis 0):\n",
      "[0 0 0 0 0]\n",
      "\n",
      "----------------------------------------------------------------------------------------\n",
      "C:\\Self Learning\\Research Papers\\UOW Research Papers\\eSport Players with EEG Data\\EEG Data\\Ismayil\\ismyil_eeg_labels.npy\n",
      "Loaded: shape=(265,), dtype=int64\n",
      "First 5 lines (along axis 0):\n",
      "[0 0 0 0 0]\n",
      "\n",
      "----------------------------------------------------------------------------------------\n",
      "C:\\Self Learning\\Research Papers\\UOW Research Papers\\eSport Players with EEG Data\\EEG Data\\Marjan\\marjan_eeg_labels.npy\n",
      "Loaded: shape=(265,), dtype=int64\n",
      "First 5 lines (along axis 0):\n",
      "[0 0 0 0 0]\n",
      "\n",
      "----------------------------------------------------------------------------------------\n",
      "C:\\Self Learning\\Research Papers\\UOW Research Papers\\eSport Players with EEG Data\\EEG Data\\Mina\\mina_eeg_labels.npy\n",
      "Loaded: shape=(265,), dtype=int64\n",
      "First 5 lines (along axis 0):\n",
      "[0 0 0 0 0]\n",
      "\n",
      "----------------------------------------------------------------------------------------\n",
      "C:\\Self Learning\\Research Papers\\UOW Research Papers\\eSport Players with EEG Data\\EEG Data\\Mina 1\\mina-1_eeg_labels.npy\n",
      "Loaded: shape=(265,), dtype=int64\n",
      "First 5 lines (along axis 0):\n",
      "[0 0 0 0 0]\n",
      "\n",
      "----------------------------------------------------------------------------------------\n",
      "C:\\Self Learning\\Research Papers\\UOW Research Papers\\eSport Players with EEG Data\\EEG Data\\Mina 3\\mina-3_eeg_labels.npy\n",
      "Loaded: shape=(265,), dtype=int64\n",
      "First 5 lines (along axis 0):\n",
      "[0 0 0 0 0]\n",
      "\n",
      "----------------------------------------------------------------------------------------\n",
      "C:\\Self Learning\\Research Papers\\UOW Research Papers\\eSport Players with EEG Data\\EEG Data\\Mohammad\\mohommad_eeg_labels.npy\n",
      "Loaded: shape=(265,), dtype=int64\n",
      "First 5 lines (along axis 0):\n",
      "[0 0 0 0 0]\n",
      "\n",
      "----------------------------------------------------------------------------------------\n",
      "C:\\Self Learning\\Research Papers\\UOW Research Papers\\eSport Players with EEG Data\\EEG Data\\Mona\\mona_eeg_labels.npy\n",
      "Loaded: shape=(265,), dtype=int64\n",
      "First 5 lines (along axis 0):\n",
      "[0 0 0 0 0]\n",
      "\n",
      "----------------------------------------------------------------------------------------\n",
      "C:\\Self Learning\\Research Papers\\UOW Research Papers\\eSport Players with EEG Data\\EEG Data\\Cole\\cole_eeg_labels.npy\n",
      "Loaded: shape=(265,), dtype=int64\n",
      "First 5 lines (along axis 0):\n",
      "[1 1 1 1 1]\n",
      "\n",
      "----------------------------------------------------------------------------------------\n",
      "C:\\Self Learning\\Research Papers\\UOW Research Papers\\eSport Players with EEG Data\\EEG Data\\Daniel\\daniel_eeg_labels.npy\n",
      "Loaded: shape=(265,), dtype=int64\n",
      "First 5 lines (along axis 0):\n",
      "[1 1 1 1 1]\n",
      "\n",
      "----------------------------------------------------------------------------------------\n",
      "C:\\Self Learning\\Research Papers\\UOW Research Papers\\eSport Players with EEG Data\\EEG Data\\Jack\\jack_eeg_labels.npy\n",
      "Loaded: shape=(265,), dtype=int64\n",
      "First 5 lines (along axis 0):\n",
      "[1 1 1 1 1]\n",
      "\n",
      "----------------------------------------------------------------------------------------\n",
      "C:\\Self Learning\\Research Papers\\UOW Research Papers\\eSport Players with EEG Data\\EEG Data\\James\\james_eeg_labels.npy\n",
      "Loaded: shape=(265,), dtype=int64\n",
      "First 5 lines (along axis 0):\n",
      "[1 1 1 1 1]\n",
      "\n",
      "----------------------------------------------------------------------------------------\n",
      "C:\\Self Learning\\Research Papers\\UOW Research Papers\\eSport Players with EEG Data\\EEG Data\\Josh\\josh_eeg_labels.npy\n",
      "Loaded: shape=(265,), dtype=int64\n",
      "First 5 lines (along axis 0):\n",
      "[1 1 1 1 1]\n",
      "\n",
      "----------------------------------------------------------------------------------------\n",
      "C:\\Self Learning\\Research Papers\\UOW Research Papers\\eSport Players with EEG Data\\EEG Data\\Max\\max_eeg_labels.npy\n",
      "Loaded: shape=(265,), dtype=int64\n",
      "First 5 lines (along axis 0):\n",
      "[1 1 1 1 1]\n",
      "\n",
      "----------------------------------------------------------------------------------------\n",
      "C:\\Self Learning\\Research Papers\\UOW Research Papers\\eSport Players with EEG Data\\EEG Data\\Roddy\\roddy_eeg_labels.npy\n",
      "Loaded: shape=(265,), dtype=int64\n",
      "First 5 lines (along axis 0):\n",
      "[1 1 1 1 1]\n",
      "\n",
      "----------------------------------------------------------------------------------------\n",
      "C:\\Self Learning\\Research Papers\\UOW Research Papers\\eSport Players with EEG Data\\EEG Data\\Sam\\sam_eeg_labels.npy\n",
      "Loaded: shape=(265,), dtype=int64\n",
      "First 5 lines (along axis 0):\n",
      "[1 1 1 1 1]\n",
      "\n",
      "----------------------------------------------------------------------------------------\n",
      "C:\\Self Learning\\Research Papers\\UOW Research Papers\\eSport Players with EEG Data\\EEG Data\\adam\\adam_eeg_labels.npy\n",
      "Loaded: shape=(265,), dtype=int64\n",
      "First 5 lines (along axis 0):\n",
      "[1 1 1 1 1]\n"
     ]
    }
   ],
   "source": [
    "import numpy as np\n",
    "\n",
    "paths = [\n",
    "    r\"C:\\Self Learning\\Research Papers\\UOW Research Papers\\eSport Players with EEG Data\\EEG Data\\Amin\\amin_eeg_labels.npy\",\n",
    "    r\"C:\\Self Learning\\Research Papers\\UOW Research Papers\\eSport Players with EEG Data\\EEG Data\\Amin1\\amin-1_eeg_labels.npy\",\n",
    "    r\"C:\\Self Learning\\Research Papers\\UOW Research Papers\\eSport Players with EEG Data\\EEG Data\\Ismayil\\ismyil_eeg_labels.npy\",\n",
    "    r\"C:\\Self Learning\\Research Papers\\UOW Research Papers\\eSport Players with EEG Data\\EEG Data\\Marjan\\marjan_eeg_labels.npy\",\n",
    "    r\"C:\\Self Learning\\Research Papers\\UOW Research Papers\\eSport Players with EEG Data\\EEG Data\\Mina\\mina_eeg_labels.npy\",\n",
    "    r\"C:\\Self Learning\\Research Papers\\UOW Research Papers\\eSport Players with EEG Data\\EEG Data\\Mina 1\\mina-1_eeg_labels.npy\",\n",
    "    r\"C:\\Self Learning\\Research Papers\\UOW Research Papers\\eSport Players with EEG Data\\EEG Data\\Mina 3\\mina-3_eeg_labels.npy\",\n",
    "    r\"C:\\Self Learning\\Research Papers\\UOW Research Papers\\eSport Players with EEG Data\\EEG Data\\Mohammad\\mohommad_eeg_labels.npy\",\n",
    "    r\"C:\\Self Learning\\Research Papers\\UOW Research Papers\\eSport Players with EEG Data\\EEG Data\\Mona\\mona_eeg_labels.npy\",\n",
    "    r\"C:\\Self Learning\\Research Papers\\UOW Research Papers\\eSport Players with EEG Data\\EEG Data\\Cole\\cole_eeg_labels.npy\",\n",
    "    r\"C:\\Self Learning\\Research Papers\\UOW Research Papers\\eSport Players with EEG Data\\EEG Data\\Daniel\\daniel_eeg_labels.npy\",\n",
    "    r\"C:\\Self Learning\\Research Papers\\UOW Research Papers\\eSport Players with EEG Data\\EEG Data\\Jack\\jack_eeg_labels.npy\",\n",
    "    r\"C:\\Self Learning\\Research Papers\\UOW Research Papers\\eSport Players with EEG Data\\EEG Data\\James\\james_eeg_labels.npy\",\n",
    "    r\"C:\\Self Learning\\Research Papers\\UOW Research Papers\\eSport Players with EEG Data\\EEG Data\\Josh\\josh_eeg_labels.npy\",\n",
    "    r\"C:\\Self Learning\\Research Papers\\UOW Research Papers\\eSport Players with EEG Data\\EEG Data\\Max\\max_eeg_labels.npy\",\n",
    "    r\"C:\\Self Learning\\Research Papers\\UOW Research Papers\\eSport Players with EEG Data\\EEG Data\\Roddy\\roddy_eeg_labels.npy\",\n",
    "    r\"C:\\Self Learning\\Research Papers\\UOW Research Papers\\eSport Players with EEG Data\\EEG Data\\Sam\\sam_eeg_labels.npy\",\n",
    "    r\"C:\\Self Learning\\Research Papers\\UOW Research Papers\\eSport Players with EEG Data\\EEG Data\\adam\\adam_eeg_labels.npy\",\n",
    "]\n",
    "\n",
    "def head_along_first_axis(arr, n=5):\n",
    "    if arr.ndim == 0:\n",
    "        return arr  # scalar\n",
    "    idx = (slice(0, min(n, arr.shape[0])),) + (slice(None),) * (arr.ndim - 1)\n",
    "    return arr[idx]\n",
    "\n",
    "for p in paths:\n",
    "    print(\"\\n\" + \"-\"*88)\n",
    "    print(p)\n",
    "    try:\n",
    "        # allow_pickle=True in case labels are object arrays (e.g., strings)\n",
    "        arr = np.load(p, allow_pickle=True)\n",
    "        print(f\"Loaded: shape={arr.shape}, dtype={arr.dtype}\")\n",
    "        preview = head_along_first_axis(arr, n=5)\n",
    "        print(\"First 5 lines (along axis 0):\")\n",
    "        print(preview)\n",
    "    except FileNotFoundError:\n",
    "        print(\"File not found.\")\n",
    "    except Exception as e:\n",
    "        print(f\"Error reading file: {e}\")\n"
   ]
  },
  {
   "cell_type": "markdown",
   "id": "7ccb5af5-9240-49d1-ab44-71c453868171",
   "metadata": {},
   "source": [
    "2. Concatenate arrays"
   ]
  },
  {
   "cell_type": "code",
   "execution_count": 2,
   "id": "526e92f9-e732-4965-b40e-e4c7e18515bf",
   "metadata": {},
   "outputs": [
    {
     "name": "stdout",
     "output_type": "stream",
     "text": [
      "C:\\Self Learning\\Research Papers\\UOW Research Papers\\eSport Players with EEG Data\\EEG Data\\Amin\\amin_eeg_labels.npy -> (265,)\n",
      "C:\\Self Learning\\Research Papers\\UOW Research Papers\\eSport Players with EEG Data\\EEG Data\\Amin1\\amin-1_eeg_labels.npy -> (265,)\n",
      "C:\\Self Learning\\Research Papers\\UOW Research Papers\\eSport Players with EEG Data\\EEG Data\\Ismayil\\ismyil_eeg_labels.npy -> (265,)\n",
      "C:\\Self Learning\\Research Papers\\UOW Research Papers\\eSport Players with EEG Data\\EEG Data\\Marjan\\marjan_eeg_labels.npy -> (265,)\n",
      "C:\\Self Learning\\Research Papers\\UOW Research Papers\\eSport Players with EEG Data\\EEG Data\\Mina\\mina_eeg_labels.npy -> (265,)\n",
      "C:\\Self Learning\\Research Papers\\UOW Research Papers\\eSport Players with EEG Data\\EEG Data\\Mina 1\\mina-1_eeg_labels.npy -> (265,)\n",
      "C:\\Self Learning\\Research Papers\\UOW Research Papers\\eSport Players with EEG Data\\EEG Data\\Mina 3\\mina-3_eeg_labels.npy -> (265,)\n",
      "C:\\Self Learning\\Research Papers\\UOW Research Papers\\eSport Players with EEG Data\\EEG Data\\Mohammad\\mohommad_eeg_labels.npy -> (265,)\n",
      "C:\\Self Learning\\Research Papers\\UOW Research Papers\\eSport Players with EEG Data\\EEG Data\\Mona\\mona_eeg_labels.npy -> (265,)\n",
      "C:\\Self Learning\\Research Papers\\UOW Research Papers\\eSport Players with EEG Data\\EEG Data\\Cole\\cole_eeg_labels.npy -> (265,)\n",
      "C:\\Self Learning\\Research Papers\\UOW Research Papers\\eSport Players with EEG Data\\EEG Data\\Daniel\\daniel_eeg_labels.npy -> (265,)\n",
      "C:\\Self Learning\\Research Papers\\UOW Research Papers\\eSport Players with EEG Data\\EEG Data\\Jack\\jack_eeg_labels.npy -> (265,)\n",
      "C:\\Self Learning\\Research Papers\\UOW Research Papers\\eSport Players with EEG Data\\EEG Data\\James\\james_eeg_labels.npy -> (265,)\n",
      "C:\\Self Learning\\Research Papers\\UOW Research Papers\\eSport Players with EEG Data\\EEG Data\\Josh\\josh_eeg_labels.npy -> (265,)\n",
      "C:\\Self Learning\\Research Papers\\UOW Research Papers\\eSport Players with EEG Data\\EEG Data\\Max\\max_eeg_labels.npy -> (265,)\n",
      "C:\\Self Learning\\Research Papers\\UOW Research Papers\\eSport Players with EEG Data\\EEG Data\\Roddy\\roddy_eeg_labels.npy -> (265,)\n",
      "C:\\Self Learning\\Research Papers\\UOW Research Papers\\eSport Players with EEG Data\\EEG Data\\Sam\\sam_eeg_labels.npy -> (265,)\n",
      "C:\\Self Learning\\Research Papers\\UOW Research Papers\\eSport Players with EEG Data\\EEG Data\\adam\\adam_eeg_labels.npy -> (265,)\n",
      "Concatenated shape: (4770,)\n"
     ]
    }
   ],
   "source": [
    "# Concatenate all label arrays in the exact order given above\n",
    "arrays = []\n",
    "for p in paths:\n",
    "    a = np.load(p, allow_pickle=True)   # keep order; don't shuffle\n",
    "    a = np.asarray(a).reshape(-1)       # ensure 1D\n",
    "    arrays.append(a)\n",
    "    print(f\"{p} -> {a.shape}\")\n",
    "\n",
    "labels_all = np.concatenate(arrays, axis=0)\n",
    "print(\"Concatenated shape:\", labels_all.shape)\n",
    "\n",
    "# sanity check\n",
    "assert labels_all.shape == (4770,), f\"Expected (4770,), got {labels_all.shape}\"\n",
    "\n",
    "# (optional) save:\n",
    "# np.save(r\"C:\\Self Learning\\Research Papers\\UOW Research Papers\\eSport Players with EEG Data\\EEG Data\\all_eeg_labels.npy\", labels_all)\n"
   ]
  },
  {
   "cell_type": "markdown",
   "id": "6f91fa1e-414d-4f8c-89d8-7727b652d647",
   "metadata": {},
   "source": [
    "3. Get the unique values of the arrays"
   ]
  },
  {
   "cell_type": "code",
   "execution_count": 7,
   "id": "4e9e7e07-b2da-45c0-9169-27488ee2941b",
   "metadata": {},
   "outputs": [
    {
     "name": "stdout",
     "output_type": "stream",
     "text": [
      "Unique count: 2\n",
      "0: 2385\n",
      "1: 2385\n"
     ]
    }
   ],
   "source": [
    "# Number of unique values in the concatenated array\n",
    "uniq_vals, counts = np.unique(labels_all, return_counts=True)\n",
    "print(\"Unique count:\", uniq_vals.size)\n",
    "\n",
    "# (optional) see the values and their frequencies\n",
    "for v, c in zip(uniq_vals, counts):\n",
    "    print(f\"{v}: {c}\")\n"
   ]
  },
  {
   "cell_type": "code",
   "execution_count": 11,
   "id": "e0a32005-e75d-4087-993e-d1cdc4ecdbb8",
   "metadata": {},
   "outputs": [
    {
     "data": {
      "image/png": "[encoded data removed]",
      "text/plain": [
       "<Figure size 640x480 with 1 Axes>"
      ]
     },
     "metadata": {},
     "output_type": "display_data"
    }
   ],
   "source": [
    "import numpy as np\n",
    "import matplotlib.pyplot as plt\n",
    "\n",
    "# Recompute (or reuse) the distribution\n",
    "uniq_vals, counts = np.unique(labels_all, return_counts=True)\n",
    "\n",
    "# Helper to format label names with codes\n",
    "def pretty_with_code(v):\n",
    "    # normalize to string for display, but detect 0/1 whether int-like or string\n",
    "    try:\n",
    "        code = int(v)\n",
    "    except (ValueError, TypeError):\n",
    "        code = None\n",
    "    if code == 0:\n",
    "        return \"Amateur (0)\"\n",
    "    elif code == 1:\n",
    "        return \"Professional (1)\"\n",
    "    else:\n",
    "        return str(v)\n",
    "\n",
    "pretty_labels = [pretty_with_code(v) for v in uniq_vals]\n",
    "\n",
    "# Plot with names and codes on x-axis\n",
    "fig, ax = plt.subplots()\n",
    "ax.bar(range(len(uniq_vals)), counts)\n",
    "ax.set_xticks(range(len(uniq_vals)))\n",
    "ax.set_xticklabels(pretty_labels, rotation=45, ha='right')\n",
    "ax.set_xlabel(\"Label\")\n",
    "ax.set_ylabel(\"Count\")\n",
    "ax.set_title(f\"Label distribution (n={labels_all.size}, unique={uniq_vals.size})\")\n",
    "\n",
    "# annotate bars with counts\n",
    "for i, c in enumerate(counts):\n",
    "    ax.text(i, c, str(c), ha='center', va='bottom', fontsize=9)\n",
    "\n",
    "plt.tight_layout()\n",
    "plt.show()\n"
   ]
  },
  {
   "cell_type": "markdown",
   "id": "7e8c360c-e5fb-4087-9a46-28d0943b35ec",
   "metadata": {},
   "source": [
    "4. Save the final array"
   ]
  },
  {
   "cell_type": "code",
   "execution_count": 12,
   "id": "7039c037-9297-4a90-bbcb-569e0f5b7711",
   "metadata": {},
   "outputs": [
    {
     "name": "stdout",
     "output_type": "stream",
     "text": [
      "Saved: C:\\Self Learning\\Research Papers\\UOW Research Papers\\eSport Players with EEG Data\\EEG Data\\final eeg data\\final_eeg_labels.npy\n"
     ]
    }
   ],
   "source": [
    "import os\n",
    "import numpy as np\n",
    "\n",
    "# Ensure destination folder exists\n",
    "dest_dir = r\"C:\\Self Learning\\Research Papers\\UOW Research Papers\\eSport Players with EEG Data\\EEG Data\\final eeg data\"\n",
    "os.makedirs(dest_dir, exist_ok=True)\n",
    "\n",
    "# Path to final file\n",
    "out_path = os.path.join(dest_dir, \"final_eeg_labels.npy\")\n",
    "\n",
    "# Optional sanity check\n",
    "assert labels_all.shape == (4770,), f\"Expected (4770,), got {labels_all.shape}\"\n",
    "\n",
    "# Save\n",
    "np.save(out_path, labels_all)\n",
    "print(f\"Saved: {out_path}\")\n"
   ]
  },
  {
   "cell_type": "code",
   "execution_count": null,
   "id": "02eddad6-d4b9-471f-9da7-e98fb6b1ad9b",
   "metadata": {},
   "outputs": [],
   "source": []
  }
 ],
 "metadata": {
  "kernelspec": {
   "display_name": "Python 3 (ipykernel)",
   "language": "python",
   "name": "python3"
  },
  "language_info": {
   "codemirror_mode": {
    "name": "ipython",
    "version": 3
   },
   "file_extension": ".py",
   "mimetype": "text/x-python",
   "name": "python",
   "nbconvert_exporter": "python",
   "pygments_lexer": "ipython3",
   "version": "3.13.7"
  }
 },
 "nbformat": 4,
 "nbformat_minor": 5
}
